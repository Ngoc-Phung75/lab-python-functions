{
 "cells": [
  {
   "cell_type": "markdown",
   "id": "25d7736c-ba17-4aff-b6bb-66eba20fbf4e",
   "metadata": {},
   "source": [
    "# Lab | Functions"
   ]
  },
  {
   "cell_type": "markdown",
   "id": "0c581062-8967-4d93-b06e-62833222f930",
   "metadata": {
    "tags": []
   },
   "source": [
    "## Exercise: Managing Customer Orders with Functions\n",
    "\n",
    "In the previous exercise, you improved the code for managing customer orders by using loops and flow control. Now, let's take it a step further and refactor the code by introducing functions.\n",
    "\n",
    "Follow the steps below to complete the exercise:\n",
    "\n",
    "1. Define a function named `initialize_inventory` that takes `products` as a parameter. Inside the function, implement the code for initializing the inventory dictionary using a loop and user input.\n",
    "\n",
    "2. Define a function named `get_customer_orders` that takes no parameters. Inside the function, implement the code for prompting the user to enter the product names using a loop. The function should return the `customer_orders` set.\n",
    "\n",
    "3. Define a function named `update_inventory` that takes `customer_orders` and `inventory` as parameters. Inside the function, implement the code for updating the inventory dictionary based on the customer orders.\n",
    "\n",
    "4. Define a function named `calculate_order_statistics` that takes `customer_orders` and `products` as parameters. Inside the function, implement the code for calculating the order statistics (total products ordered, and percentage of unique products ordered). The function should return these values.\n",
    "\n",
    "5. Define a function named `print_order_statistics` that takes `order_statistics` as a parameter. Inside the function, implement the code for printing the order statistics.\n",
    "\n",
    "6. Define a function named `print_updated_inventory` that takes `inventory` as a parameter. Inside the function, implement the code for printing the updated inventory.\n",
    "\n",
    "7. Call the functions in the appropriate sequence to execute the program and manage customer orders.\n",
    "\n",
    "Hints for functions:\n",
    "\n",
    "- Consider the input parameters required for each function and their return values.\n",
    "- Utilize function parameters and return values to transfer data between functions.\n",
    "- Test your functions individually to ensure they work correctly.\n",
    "\n",
    "\n"
   ]
  },
  {
   "cell_type": "code",
   "execution_count": 12,
   "id": "6aade5a0-0db4-4ad9-a5f1-2b1b40e943b2",
   "metadata": {},
   "outputs": [
    {
     "name": "stdout",
     "output_type": "stream",
     "text": [
      "Enter the quantity for each product:\n"
     ]
    },
    {
     "name": "stdin",
     "output_type": "stream",
     "text": [
      "t-shirt:  9\n",
      "mug:  5\n",
      "hat:  14\n",
      "book:  23\n",
      "keychain:  17\n"
     ]
    },
    {
     "name": "stdout",
     "output_type": "stream",
     "text": [
      "\n",
      "Initialized Inventory:\n",
      "t-shirt: 9\n",
      "mug: 5\n",
      "hat: 14\n",
      "book: 23\n",
      "keychain: 17\n"
     ]
    }
   ],
   "source": [
    "#1- Define a function named initialize_inventory that takes products as a parameter. Inside the function, implement the code for initializing the inventory dictionary using a loop and user input.\n",
    "\n",
    "products = [\"t-shirt\", \"mug\", \"hat\", \"book\", \"keychain\"]\n",
    "\n",
    "inventory = {}\n",
    "def initialize_inventory(products):\n",
    "    \n",
    "    print(\"Enter the quantity for each product:\")\n",
    "    for product in products:\n",
    "        while True:\n",
    "            try:\n",
    "                quantity = int(input(f\"{product}: \"))\n",
    "                if quantity < 0:\n",
    "                    print(\"Quantity cannot be negative. Please enter a valid number.\")\n",
    "                    continue\n",
    "                inventory[product] = quantity\n",
    "                break\n",
    "            except ValueError:\n",
    "                print(\"Invalid input. Please enter an integer value.\")\n",
    "    return inventory\n",
    "\n",
    "# Initialize the inventory using the function\n",
    "inventory = initialize_inventory(products)\n",
    "\n",
    "# Display the initialized inventory\n",
    "print(\"\\nInitialized Inventory:\")\n",
    "for product, quantity in inventory.items():\n",
    "    print(f\"{product}: {quantity}\")\n"
   ]
  },
  {
   "cell_type": "code",
   "execution_count": 36,
   "id": "5bb1ba71-30bf-4216-9c42-32317a500238",
   "metadata": {},
   "outputs": [
    {
     "name": "stdout",
     "output_type": "stream",
     "text": [
      "\n",
      "Available products: t-shirt, mug, hat, book, keychain\n"
     ]
    },
    {
     "name": "stdin",
     "output_type": "stream",
     "text": [
      "Enter the name of a product you want to order:  hat\n"
     ]
    },
    {
     "name": "stdout",
     "output_type": "stream",
     "text": [
      "hat added to the order.\n"
     ]
    },
    {
     "name": "stdin",
     "output_type": "stream",
     "text": [
      "Do you want to add another product? (yes/no):  yes\n",
      "Enter the name of a product you want to order:  book\n"
     ]
    },
    {
     "name": "stdout",
     "output_type": "stream",
     "text": [
      "book added to the order.\n"
     ]
    },
    {
     "name": "stdin",
     "output_type": "stream",
     "text": [
      "Do you want to add another product? (yes/no):  yes\n",
      "Enter the name of a product you want to order:  mug\n"
     ]
    },
    {
     "name": "stdout",
     "output_type": "stream",
     "text": [
      "mug added to the order.\n"
     ]
    },
    {
     "name": "stdin",
     "output_type": "stream",
     "text": [
      "Do you want to add another product? (yes/no):  yes\n",
      "Enter the name of a product you want to order:  keychain\n"
     ]
    },
    {
     "name": "stdout",
     "output_type": "stream",
     "text": [
      "keychain added to the order.\n"
     ]
    },
    {
     "name": "stdin",
     "output_type": "stream",
     "text": [
      "Do you want to add another product? (yes/no):  no\n"
     ]
    },
    {
     "name": "stdout",
     "output_type": "stream",
     "text": [
      "\n",
      "Customer Orders:\n",
      "keychain, book, mug, hat\n"
     ]
    }
   ],
   "source": [
    "#2- Define a function named get_customer_orders that takes no parameters. Inside the function, implement the code for prompting the user to enter the product names using a loop. The function should return the customer_orders set.\n",
    "\n",
    "def get_customer_orders():\n",
    "   \n",
    "    customer_orders = set()\n",
    "    products = [\"t-shirt\", \"mug\", \"hat\", \"book\", \"keychain\"] \n",
    "\n",
    "    print(\"\\nAvailable products:\", \", \".join(products))\n",
    "    \n",
    "    while True:\n",
    "        product = input(\"Enter the name of a product you want to order: \").strip().lower()\n",
    "        if product in products:\n",
    "            customer_orders.add(product)\n",
    "            print(f\"{product} added to the order.\")\n",
    "        else:\n",
    "            print(\"Invalid product. Please choose from the available products.\")\n",
    "        \n",
    "        another = input(\"Do you want to add another product? (yes/no): \").strip().lower()\n",
    "        if another != \"yes\":\n",
    "            break\n",
    "    \n",
    "    return customer_orders\n",
    "\n",
    "\n",
    "# Call the function to get customer orders\n",
    "customer_orders = get_customer_orders()\n",
    "\n",
    "# Display the customer orders\n",
    "print(\"\\nCustomer Orders:\")\n",
    "print(\", \".join(customer_orders))"
   ]
  },
  {
   "cell_type": "code",
   "execution_count": 42,
   "id": "c42a8c2b-9817-48eb-b2ae-73c3f3a71667",
   "metadata": {},
   "outputs": [
    {
     "name": "stdout",
     "output_type": "stream",
     "text": [
      "{'keychain', 'book', 'mug', 'hat'}\n",
      "{'t-shirt': 9, 'mug': 5, 'hat': 14, 'book': 23, 'keychain': 17}\n"
     ]
    }
   ],
   "source": [
    "#3- Define a function named update_inventory that takes customer_orders and inventory as parameters. Inside the function, implement the code for updating the inventory dictionary based on the customer orders.\n",
    "\n",
    "def update_inventory(customer_orders, inventory):\n",
    "    for product in customer_orders:\n",
    "        if product in inventory:\n",
    "            inventory[product] = max(0, inventory[product] - 1)\n",
    "    return inventory\n",
    "\n",
    "print(customer_orders)\n",
    "print(inventory)"
   ]
  },
  {
   "cell_type": "code",
   "execution_count": 44,
   "id": "014f4271-f6e2-4bb5-8260-d08382c4021b",
   "metadata": {},
   "outputs": [
    {
     "name": "stdout",
     "output_type": "stream",
     "text": [
      "\n",
      "Updated Inventory:\n",
      "t-shirt: 9\n",
      "mug: 4\n",
      "hat: 13\n",
      "book: 22\n",
      "keychain: 16\n"
     ]
    }
   ],
   "source": [
    "customer_orders = ['keychain', 'book', 'mug', 'hat']\n",
    "inventory = {'t-shirt': 9, 'mug': 5, 'hat': 14, 'book': 23, 'keychain': 17}\n",
    "\n",
    "inventory = update_inventory(customer_orders, inventory)\n",
    "\n",
    "# Display the updated inventory\n",
    "print(\"\\nUpdated Inventory:\")\n",
    "for product, quantity in inventory.items():\n",
    "    print(f\"{product}: {quantity}\")"
   ]
  },
  {
   "cell_type": "code",
   "execution_count": 62,
   "id": "f3b260f0-6bf9-49b7-9d62-7407843890b6",
   "metadata": {},
   "outputs": [
    {
     "name": "stdout",
     "output_type": "stream",
     "text": [
      "Order Statistics:\n",
      "Total Products Ordered: 4\n",
      "Percentage of Unique Products Ordered: 80.00%\n"
     ]
    }
   ],
   "source": [
    "#4- Define a function named calculate_order_statistics that takes customer_orders and products as parameters. Inside the function, implement the code for calculating the order statistics (total products ordered, and percentage of unique products ordered). The function should return these values.\n",
    "\n",
    "def calculate_order_statistics(customer_orders, products):\n",
    "    total_products_ordered = len(customer_orders)\n",
    "    percentage_unique_products_ordered = (total_products_ordered / len(products)) * 100 if products else 0\n",
    "    \n",
    "    return total_products_ordered, percentage_unique_products_ordered\n",
    "\n",
    "order_status = (total_products_ordered, percentage_unique_products_ordered)\n",
    "\n",
    "print(f\"Order Statistics:\\nTotal Products Ordered: {order_status[0]}\")\n",
    "print(f\"Percentage of Unique Products Ordered: {order_status[1]:.2f}%\")"
   ]
  },
  {
   "cell_type": "code",
   "execution_count": 88,
   "id": "ab5f804a-b7e7-4533-a8f9-e7871808d63b",
   "metadata": {},
   "outputs": [
    {
     "name": "stdout",
     "output_type": "stream",
     "text": [
      "Order Statistics:\n",
      "Total Products Ordered: 4\n",
      "Percentage of Unique Products Ordered: 80.00%\n"
     ]
    }
   ],
   "source": [
    "#5- Define a function named print_order_statistics that takes order_statistics as a parameter. Inside the function, implement the code for printing the order statistics.\n",
    "\n",
    "order_statistics = total_products_ordered, percentage_unique_products_ordered\n",
    "\n",
    "def print_order_statistics(order_statistics):\n",
    "    print(f\"Order Statistics:\\nTotal Products Ordered: {order_status[0]}\")\n",
    "    print(f\"Percentage of Unique Products Ordered: {order_status[1]:.2f}%\")\n",
    "        \n",
    "print_order_statistics(order_statistics)"
   ]
  },
  {
   "cell_type": "code",
   "execution_count": 94,
   "id": "14708735-fe66-4f74-84d0-56a21a925966",
   "metadata": {},
   "outputs": [
    {
     "name": "stdout",
     "output_type": "stream",
     "text": [
      "\n",
      "Updated Inventory:\n",
      "t-shirt: 9\n",
      "mug: 4\n",
      "hat: 13\n",
      "book: 22\n",
      "keychain: 16\n"
     ]
    }
   ],
   "source": [
    "#6- Define a function named print_updated_inventory that takes inventory as a parameter. Inside the function, implement the code for printing the updated inventory.\n",
    "\n",
    "def print_updated_inventory(inventory):\n",
    "    print(\"\\nUpdated Inventory:\")\n",
    "    for product, quantity in inventory.items():\n",
    "        print(f\"{product}: {quantity}\")\n",
    "    \n",
    "print_updated_inventory(inventory)\n"
   ]
  },
  {
   "cell_type": "code",
   "execution_count": 159,
   "id": "ba53fcd6-2e3c-4b99-aece-288640f75498",
   "metadata": {},
   "outputs": [
    {
     "name": "stdout",
     "output_type": "stream",
     "text": [
      "Enter the quantity for each product:\n"
     ]
    },
    {
     "name": "stdin",
     "output_type": "stream",
     "text": [
      "t-shirt:  10\n",
      "mug:  15\n",
      "hat:  32\n",
      "book:  52\n",
      "keychain:  92\n"
     ]
    },
    {
     "name": "stdout",
     "output_type": "stream",
     "text": [
      "\n",
      "Available products: t-shirt, mug, hat, book, keychain\n"
     ]
    },
    {
     "name": "stdin",
     "output_type": "stream",
     "text": [
      "Enter the name of a product you want to order:  MUG\n"
     ]
    },
    {
     "name": "stdout",
     "output_type": "stream",
     "text": [
      "mug added to the order.\n"
     ]
    },
    {
     "name": "stdin",
     "output_type": "stream",
     "text": [
      "Do you want to add another product? (yes/no):  YES\n",
      "Enter the name of a product you want to order:  HAT\n"
     ]
    },
    {
     "name": "stdout",
     "output_type": "stream",
     "text": [
      "hat added to the order.\n"
     ]
    },
    {
     "name": "stdin",
     "output_type": "stream",
     "text": [
      "Do you want to add another product? (yes/no):  YES\n",
      "Enter the name of a product you want to order:  BOOK\n"
     ]
    },
    {
     "name": "stdout",
     "output_type": "stream",
     "text": [
      "book added to the order.\n"
     ]
    },
    {
     "name": "stdin",
     "output_type": "stream",
     "text": [
      "Do you want to add another product? (yes/no):  NO\n"
     ]
    },
    {
     "name": "stdout",
     "output_type": "stream",
     "text": [
      "Order Statistics:\n",
      "Total Products Ordered: 4\n",
      "Percentage of Unique Products Ordered: 80.00%\n",
      "\n",
      "Updated Inventory:\n",
      "t-shirt: 10\n",
      "mug: 14\n",
      "hat: 31\n",
      "book: 51\n",
      "keychain: 92\n"
     ]
    }
   ],
   "source": [
    "#7- Call the functions in the appropriate sequence to execute the program and manage customer orders.\n",
    "\n",
    "products = [\"t-shirt\", \"mug\", \"hat\", \"book\", \"keychain\"]\n",
    "\n",
    "def customer_orders_mgt():\n",
    "    inventory = initialize_inventory(products)\n",
    "    customer_orders = get_customer_orders()\n",
    "    inventory = update_inventory(customer_orders, inventory)\n",
    "    order_statistics = calculate_order_statistics(customer_orders, products)\n",
    "    print_order_statistics(order_statistics)\n",
    "    \n",
    "    print(\"\\nUpdated Inventory:\")\n",
    "    for product, quantity in inventory.items():\n",
    "        print(f\"{product}: {quantity}\")\n",
    "\n",
    "\n",
    "customer_orders_mgt()"
   ]
  },
  {
   "cell_type": "code",
   "execution_count": 189,
   "id": "175ec60c-8b06-4221-a00e-f194496be639",
   "metadata": {},
   "outputs": [],
   "source": [
    "#NB: because the get_customer_orders() function has no parameter, the customer order is not updated by new inputs.\n"
   ]
  },
  {
   "cell_type": "code",
   "execution_count": null,
   "id": "8bf4df33-0b91-4eb2-9ca9-9414a5188af0",
   "metadata": {},
   "outputs": [],
   "source": []
  }
 ],
 "metadata": {
  "kernelspec": {
   "display_name": "Python [conda env:base] *",
   "language": "python",
   "name": "conda-base-py"
  },
  "language_info": {
   "codemirror_mode": {
    "name": "ipython",
    "version": 3
   },
   "file_extension": ".py",
   "mimetype": "text/x-python",
   "name": "python",
   "nbconvert_exporter": "python",
   "pygments_lexer": "ipython3",
   "version": "3.12.7"
  }
 },
 "nbformat": 4,
 "nbformat_minor": 5
}
